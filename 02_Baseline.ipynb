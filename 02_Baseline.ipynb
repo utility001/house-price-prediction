{
 "cells": [
  {
   "cell_type": "markdown",
   "id": "1894442c-10ab-4fe3-ba20-ac905d1306b7",
   "metadata": {
    "jp-MarkdownHeadingCollapsed": true
   },
   "source": [
    "### Ingest"
   ]
  },
  {
   "cell_type": "code",
   "execution_count": 1,
   "id": "60776cea-f30b-4c2b-ae27-ec5621161f48",
   "metadata": {},
   "outputs": [],
   "source": [
    "# Imports\n",
    "import pandas as pd\n",
    "import numpy as np\n",
    "from sklearn.model_selection import train_test_split\n",
    "\n",
    "# Display all the columns no matter how many\n",
    "pd.pandas.set_option(\"display.max_columns\", None)"
   ]
  },
  {
   "cell_type": "code",
   "execution_count": null,
   "id": "c4d2759e-c040-4f74-860f-6a0c114f88b2",
   "metadata": {},
   "outputs": [],
   "source": [
    "from wrangle import ingest_and_split_train_val"
   ]
  },
  {
   "cell_type": "code",
   "execution_count": 3,
   "id": "7df6a0c2-d14b-4a5b-b2c8-c1926350bf47",
   "metadata": {},
   "outputs": [],
   "source": [
    "train, val =  ingest_and_split_train_val()"
   ]
  },
  {
   "cell_type": "markdown",
   "id": "be6130ca-2bd3-48fa-90ab-739af766a873",
   "metadata": {},
   "source": [
    "wrangle"
   ]
  },
  {
   "cell_type": "code",
   "execution_count": null,
   "id": "a1425167-6eec-4d2f-a6b7-a5bae0e71cb2",
   "metadata": {},
   "outputs": [],
   "source": [
    "from wrangle import wrangle"
   ]
  },
  {
   "cell_type": "code",
   "execution_count": 5,
   "id": "3b38ea52-fd2d-4ed2-aeaf-42fb1ce94747",
   "metadata": {},
   "outputs": [
    {
     "data": {
      "text/plain": [
       "((1168, 80), (292, 80))"
      ]
     },
     "execution_count": 5,
     "metadata": {},
     "output_type": "execute_result"
    }
   ],
   "source": [
    "train.shape, val.shape"
   ]
  },
  {
   "cell_type": "code",
   "execution_count": 6,
   "id": "9013e268-8812-40b4-a738-072da6ab80ca",
   "metadata": {},
   "outputs": [],
   "source": [
    "train = wrangle(train)\n",
    "val = wrangle(val)"
   ]
  },
  {
   "cell_type": "code",
   "execution_count": 7,
   "id": "a8a8c28c-ff45-4839-8769-4cd822f5d5de",
   "metadata": {},
   "outputs": [
    {
     "data": {
      "text/plain": [
       "((1168, 57), (292, 57))"
      ]
     },
     "execution_count": 7,
     "metadata": {},
     "output_type": "execute_result"
    }
   ],
   "source": [
    "train.shape, val.shape"
   ]
  },
  {
   "cell_type": "code",
   "execution_count": 8,
   "id": "a256f74c-de1d-46e4-9ea8-2acc06c14e51",
   "metadata": {},
   "outputs": [],
   "source": [
    "# Split into features and labels\n",
    "X_train = train.drop(columns=[\"SalePrice\"])\n",
    "X_val = val.drop(columns=[\"SalePrice\"])\n",
    "y_train = train[\"SalePrice\"]\n",
    "y_val = val[\"SalePrice\"]"
   ]
  },
  {
   "cell_type": "code",
   "execution_count": 9,
   "id": "807084e8-8e85-4dbe-a489-b209a5747c37",
   "metadata": {},
   "outputs": [
    {
     "data": {
      "text/plain": [
       "((1168, 56), (292, 56), (1168,), (292,))"
      ]
     },
     "execution_count": 9,
     "metadata": {},
     "output_type": "execute_result"
    }
   ],
   "source": [
    "X_train.shape, X_val.shape, y_train.shape, y_val.shape"
   ]
  },
  {
   "cell_type": "markdown",
   "id": "58559d03-4b5c-4c2e-aef3-437782415e44",
   "metadata": {},
   "source": [
    "### Baseline"
   ]
  },
  {
   "cell_type": "markdown",
   "id": "afb1a647-7543-49b7-b395-d1835ad66033",
   "metadata": {},
   "source": [
    "The baseline is basically a naive model. It will predict only the mean of the train dataset"
   ]
  },
  {
   "cell_type": "code",
   "execution_count": 11,
   "id": "09ab8034-20de-4767-ac2b-a4e67411964a",
   "metadata": {},
   "outputs": [],
   "source": [
    "# y_train"
   ]
  },
  {
   "cell_type": "code",
   "execution_count": 20,
   "id": "997fecd4-cb7e-47a6-ac07-0ea3fb4f9b4f",
   "metadata": {},
   "outputs": [
    {
     "data": {
      "text/plain": [
       "[181100.5522260274,\n",
       " 181100.5522260274,\n",
       " 181100.5522260274,\n",
       " 181100.5522260274,\n",
       " 181100.5522260274]"
      ]
     },
     "execution_count": 20,
     "metadata": {},
     "output_type": "execute_result"
    }
   ],
   "source": [
    "y_mean = y_train.mean()\n",
    "y_train_pred_baseline = [y_mean] * len(y_train)\n",
    "y_train_pred_baseline[:5]"
   ]
  },
  {
   "cell_type": "code",
   "execution_count": 16,
   "id": "18ae44f4-f3d5-49fb-be6a-ef7912ad5e93",
   "metadata": {},
   "outputs": [],
   "source": [
    "from sklearn.metrics import mean_squared_error"
   ]
  },
  {
   "cell_type": "code",
   "execution_count": 21,
   "id": "271c7bc0-a1a2-4775-b059-c21a5bd20580",
   "metadata": {},
   "outputs": [
    {
     "data": {
      "text/plain": [
       "80963.53540864638"
      ]
     },
     "execution_count": 21,
     "metadata": {},
     "output_type": "execute_result"
    }
   ],
   "source": [
    "train_rmse = mean_squared_error(y_train, y_train_pred_baseline, squared=False)\n",
    "train_rmse"
   ]
  },
  {
   "cell_type": "code",
   "execution_count": 22,
   "id": "ed9b3dca-9b37-487e-984a-f1302bbe22a7",
   "metadata": {},
   "outputs": [],
   "source": [
    "y_val_pred_baseline = [y_mean] * len(y_val)"
   ]
  },
  {
   "cell_type": "code",
   "execution_count": 24,
   "id": "bd4ac915-922c-43f6-9c7b-8a25dd8882f5",
   "metadata": {},
   "outputs": [
    {
     "data": {
      "text/plain": [
       "72895.3188260644"
      ]
     },
     "execution_count": 24,
     "metadata": {},
     "output_type": "execute_result"
    }
   ],
   "source": [
    "val_rmse = mean_squared_error(y_val, y_val_pred_baseline, squared=False)\n",
    "val_rmse"
   ]
  },
  {
   "cell_type": "markdown",
   "id": "741d23d9-b5d5-4230-98f2-46b0eea0976f",
   "metadata": {},
   "source": [
    "A naive model gave us a RMSE of 80,693 on the training set\n",
    "It also gave us a rmse of 72,895 on the validation set"
   ]
  },
  {
   "cell_type": "markdown",
   "id": "481f3efd-7a7b-4416-a909-b9b1f543f14e",
   "metadata": {},
   "source": []
  }
 ],
 "metadata": {
  "kernelspec": {
   "display_name": "jupynoteKernel",
   "language": "python",
   "name": "jupynotekernel"
  },
  "language_info": {
   "codemirror_mode": {
    "name": "ipython",
    "version": 3
   },
   "file_extension": ".py",
   "mimetype": "text/x-python",
   "name": "python",
   "nbconvert_exporter": "python",
   "pygments_lexer": "ipython3",
   "version": "3.10.12"
  }
 },
 "nbformat": 4,
 "nbformat_minor": 5
}
